{
  "nbformat": 4,
  "nbformat_minor": 0,
  "metadata": {
    "colab": {
      "name": "DART_Test",
      "provenance": [],
      "collapsed_sections": [],
      "toc_visible": true,
      "mount_file_id": "1imbFUDWm7WSsWHrbWL4PVIqh7xbgA46w",
      "authorship_tag": "ABX9TyPJ7ugq7+SzcmxDEK/YiRS0",
      "include_colab_link": true
    },
    "kernelspec": {
      "name": "python3",
      "display_name": "Python 3"
    }
  },
  "cells": [
    {
      "cell_type": "markdown",
      "metadata": {
        "id": "view-in-github",
        "colab_type": "text"
      },
      "source": [
        "<a href=\"https://colab.research.google.com/github/willey95/EtCetra/blob/master/DART_Test.ipynb\" target=\"_parent\"><img src=\"https://colab.research.google.com/assets/colab-badge.svg\" alt=\"Open In Colab\"/></a>"
      ]
    },
    {
      "cell_type": "code",
      "metadata": {
        "id": "DAsKc_xyi7iv",
        "colab_type": "code",
        "colab": {}
      },
      "source": [
        "import requests\n",
        "from bs4 import BeautifulSoup\n",
        "import json\n",
        "import re\n",
        "import xml.etree.ElementTree as et\n",
        "import pandas as pd\n",
        "import numpy as np \n",
        "import openpyxl as xl\n",
        "pd.set_option('display.max_rows', 20)"
      ],
      "execution_count": 1,
      "outputs": []
    },
    {
      "cell_type": "markdown",
      "metadata": {
        "id": "w1_svn4nQ3US",
        "colab_type": "text"
      },
      "source": [
        "####  File Upload"
      ]
    },
    {
      "cell_type": "code",
      "metadata": {
        "id": "xG2T2KTpLc07",
        "colab_type": "code",
        "colab": {}
      },
      "source": [
        "# from google.colab import files\n",
        "# uploaded = files.upload()\n",
        "\n",
        "# for fn in uploaded.keys():\n",
        "#     print(\"Filename : {fn}\")"
      ],
      "execution_count": 2,
      "outputs": []
    },
    {
      "cell_type": "markdown",
      "metadata": {
        "id": "4FJZuqu7RS64",
        "colab_type": "text"
      },
      "source": [
        "#### Google Drive 연결하여 회사코드 추출 (CORPCODE.xml)\n",
        "* 회사코드는 다운로드 받을 때 zip 형태로 되어 있음\n",
        "* 압축 해제 시 xml로 되어 있어 parsing 해서 사용 "
      ]
    },
    {
      "cell_type": "code",
      "metadata": {
        "id": "W_2G6YONdw70",
        "colab_type": "code",
        "colab": {}
      },
      "source": [
        "tree = et.parse('drive/My Drive/CORPCODE.xml')\n",
        "root = tree.getroot()"
      ],
      "execution_count": 3,
      "outputs": []
    },
    {
      "cell_type": "markdown",
      "metadata": {
        "id": "8cVJ5scDbGfF",
        "colab_type": "text"
      },
      "source": [
        "#### 회사명 추출"
      ]
    },
    {
      "cell_type": "code",
      "metadata": {
        "id": "GgKc91X8auBt",
        "colab_type": "code",
        "colab": {}
      },
      "source": [
        "rows = []\n",
        "rowDic = {}\n",
        "\n",
        "for i in root:\n",
        "    corp_code = i.find(\"corp_code\").text\n",
        "    corp_name = i.find(\"corp_name\").text\n",
        "    stock_code = i.find('stock_code').text\n",
        "    modify_date = i.find('modify_date').text\n",
        "\n",
        "    rows.append ([corp_code, corp_name, stock_code, modify_date])\n",
        "    rowDic[corp_code] = [corp_name, stock_code, modify_date]\n",
        "\n",
        "df = pd.DataFrame(rows, columns=['corp_code', 'corp_name', 'stock_code', 'modify_data'])"
      ],
      "execution_count": 4,
      "outputs": []
    },
    {
      "cell_type": "markdown",
      "metadata": {
        "id": "KZeuCugmefkO",
        "colab_type": "text"
      },
      "source": [
        "#### 함수작성"
      ]
    },
    {
      "cell_type": "code",
      "metadata": {
        "id": "lArYuqDBullU",
        "colab_type": "code",
        "colab": {}
      },
      "source": [
        "def find_corp_code(co_name):\n",
        "    find_df = df[df['corp_name'].str.contains(co_name, na=False)]\n",
        "    return find_df"
      ],
      "execution_count": 5,
      "outputs": []
    },
    {
      "cell_type": "code",
      "metadata": {
        "id": "LIm5mUZ1ypZX",
        "colab_type": "code",
        "colab": {}
      },
      "source": [
        "def load_data(request, corp_code, **kwargs):\n",
        "\n",
        "    '''\n",
        "    request : 'company 회사개요, biz_report 정기보고' \\n\n",
        "    corp_code : '회사명 추출, find_corp_code'로 알아냄 \\n\n",
        "\n",
        "    **kwargs \\n\n",
        "    \n",
        "    '''\n",
        "\n",
        "    api_key = '58e750d240b32c943d6bdcf8d58f746880655281'\n",
        "    base_url = 'https://opendart.fss.or.kr/api/'\n",
        "    \n",
        "    result = []\n",
        "    for co_item in corp_code['corp_code']:\n",
        "        try : \n",
        "            if request == 'company':\n",
        "                action_url = 'company.json?crtfc_key={}&corp_code={}'.format(api_key, co_item)\n",
        "            \n",
        "            elif request == 'biz_rpt_sum':\n",
        "                bsns_year = kwargs['year'] ### 해당연도\n",
        "                reprt_code = kwargs['rpt_code'] ### 보고서 코드\n",
        "                \n",
        "                action_url = 'fnlttSinglAcnt.json?crtfc_key={}&corp_code={}&bsns_year={}&reprt_code={}' \\\n",
        "                            .format(api_key,co_item,bsns_year,reprt_code)\n",
        "                print(action_url)\n",
        "\n",
        "            url = base_url+action_url\n",
        "            rq = requests.get(url)\n",
        "            temp = rq.json() \n",
        "            result.append (temp)\n",
        "            \n",
        "        except:\n",
        "            print('error')\n",
        "            \n",
        "    return result"
      ],
      "execution_count": 6,
      "outputs": []
    },
    {
      "cell_type": "code",
      "metadata": {
        "id": "orIG3kmj2Gta",
        "colab_type": "code",
        "colab": {}
      },
      "source": [
        "### 분기별, 반기별, 연도별 사업보고서가 달라 종류에 따라 칼럼명을 교체\n",
        "\n",
        "def ext_Col (df) :\n",
        "    rpt_code = df.loc[0, 'reprt_code']\n",
        "    if rpt_code == '11011' :\n",
        "        column_ext = ['account_nm','thstrm_amount','frmtrm_amount','bfefrmtrm_amount','ord']\n",
        "        column_nm  = {'account_nm':'계정명',\n",
        "                      'thstrm_amount' : df.loc[0, 'thstrm_dt'], \n",
        "                      'frmtrm_amount' : df.loc[0, 'frmtrm_dt'],\n",
        "                      'bfefrmtrm_amount': df.loc[0, 'bfefrmtrm_dt']\n",
        "                     }\n",
        "    elif rpt_code == '11012' :\n",
        "        column_ext = ['account_nm','thstrm_amount','frmtrm_amount','ord']\n",
        "        column_nm  = {'account_nm':'계정명',\n",
        "                      'thstrm_amount' : df.loc[0, 'thstrm_dt'], \n",
        "                      'frmtrm_amount' : df.loc[0, 'frmtrm_dt']  \n",
        "                     }\n",
        "    else :\n",
        "        column_ext = ['account_nm','thstrm_amount','ord']\n",
        "        column_nm  = {'account_nm':'계정명',\n",
        "                      'thstrm_amount' : df.loc[0, 'thstrm_dt']  \n",
        "                     }\n",
        "\n",
        "    return column_ext, column_nm\n"
      ],
      "execution_count": 7,
      "outputs": []
    },
    {
      "cell_type": "code",
      "metadata": {
        "id": "1Y1_P9A_MSkO",
        "colab_type": "code",
        "colab": {}
      },
      "source": [
        "def ext_FS (data, consol, kindof):\n",
        "\n",
        "    '''\n",
        "    data : JSON Data\n",
        "    consol=True : 연결제무제표,  False : 별도 제무제표  \n",
        "\n",
        "    '''\n",
        "    srcWord = ''\n",
        "    lstDf = []\n",
        "\n",
        "    #재무제표의 종류\n",
        "    if kindof == 'BS' :\n",
        "        srcWord = '재무상태표'\n",
        "    elif kindof == 'PL' :\n",
        "        srcWord = '손익계산서'\n",
        "\n",
        "    for dtTemp in data :\n",
        "        if dtTemp['status'] == '000' :\n",
        "            tmp_df = pd.DataFrame(dtTemp['list'])\n",
        "            column_ext, column_nm = ext_Col(tmp_df)  #추출할 칼럼과 이름 바꿀 칼럼\n",
        "\n",
        "            if consol == True :\n",
        "                df = tmp_df.loc[(tmp_df['fs_nm']== '연결재무제표')&(tmp_df['sj_nm']==srcWord), column_ext]\n",
        "            elif consol == False :\n",
        "                df = tmp_df.loc[(tmp_df['fs_nm']== '재무제표')&(tmp_df['sj_nm']==srcWord), column_ext]\n",
        "\n",
        "            df['ord'] = df['ord'].astype('int')\n",
        "            df = df.sort_values(by='ord', ascending=True).reset_index()\n",
        "\n",
        "            df.rename(columns=column_nm, inplace=True)\n",
        "\n",
        "        else :\n",
        "            df = pd.DataFrame()     #빈 데이터 프레임을 생성하여 회사개수와 일치시킴\n",
        "        \n",
        "        lstDf.append (df)\n",
        "\n",
        "    return lstDf"
      ],
      "execution_count": 8,
      "outputs": []
    },
    {
      "cell_type": "code",
      "metadata": {
        "id": "N9ybUAnO2FMk",
        "colab_type": "code",
        "colab": {}
      },
      "source": [
        "def ch_rpt_code (str) :\n",
        "    if str == '1Q' :\n",
        "        str_r = '11013'\n",
        "\n",
        "    elif str == '2Q' :\n",
        "        str_r = '11012'\n",
        "\n",
        "    elif str == '3Q' :\n",
        "        str_r = '11014'\n",
        "\n",
        "    elif str == '4Q' :\n",
        "        str_r = '11011'\n",
        "    \n",
        "    return str_r"
      ],
      "execution_count": 9,
      "outputs": []
    },
    {
      "cell_type": "code",
      "metadata": {
        "id": "drB9YCARDLcW",
        "colab_type": "code",
        "colab": {
          "base_uri": "https://localhost:8080/",
          "height": 204
        },
        "outputId": "a8ac5704-8069-40cc-b30e-4c626916d17e"
      },
      "source": [
        "corp_code = find_corp_code(\"삼성전자\")\n",
        "\n",
        "# 보고서 종류 기준연도 등 입력 \n",
        "input_data = {'year' : '2019',              #문자형으로 입력\n",
        "              'rpt_code' : '4Q',            #'1Q, 2Q, 3Q, 4Q'\n",
        "              'kind_of_report' : 'BS'       #'BS' or 'PL'\n",
        "             }\n",
        "corp_code"
      ],
      "execution_count": 10,
      "outputs": [
        {
          "output_type": "execute_result",
          "data": {
            "text/html": [
              "<div>\n",
              "<style scoped>\n",
              "    .dataframe tbody tr th:only-of-type {\n",
              "        vertical-align: middle;\n",
              "    }\n",
              "\n",
              "    .dataframe tbody tr th {\n",
              "        vertical-align: top;\n",
              "    }\n",
              "\n",
              "    .dataframe thead th {\n",
              "        text-align: right;\n",
              "    }\n",
              "</style>\n",
              "<table border=\"1\" class=\"dataframe\">\n",
              "  <thead>\n",
              "    <tr style=\"text-align: right;\">\n",
              "      <th></th>\n",
              "      <th>corp_code</th>\n",
              "      <th>corp_name</th>\n",
              "      <th>stock_code</th>\n",
              "      <th>modify_data</th>\n",
              "    </tr>\n",
              "  </thead>\n",
              "  <tbody>\n",
              "    <tr>\n",
              "      <th>45194</th>\n",
              "      <td>00126380</td>\n",
              "      <td>삼성전자</td>\n",
              "      <td>005930</td>\n",
              "      <td>20191209</td>\n",
              "    </tr>\n",
              "    <tr>\n",
              "      <th>53846</th>\n",
              "      <td>00252074</td>\n",
              "      <td>삼성전자판매</td>\n",
              "      <td></td>\n",
              "      <td>20200217</td>\n",
              "    </tr>\n",
              "    <tr>\n",
              "      <th>56775</th>\n",
              "      <td>00258999</td>\n",
              "      <td>삼성전자서비스</td>\n",
              "      <td></td>\n",
              "      <td>20200225</td>\n",
              "    </tr>\n",
              "    <tr>\n",
              "      <th>58695</th>\n",
              "      <td>01345812</td>\n",
              "      <td>삼성전자서비스씨에스</td>\n",
              "      <td></td>\n",
              "      <td>20200219</td>\n",
              "    </tr>\n",
              "    <tr>\n",
              "      <th>70495</th>\n",
              "      <td>00366997</td>\n",
              "      <td>삼성전자로지텍</td>\n",
              "      <td></td>\n",
              "      <td>20200324</td>\n",
              "    </tr>\n",
              "  </tbody>\n",
              "</table>\n",
              "</div>"
            ],
            "text/plain": [
              "      corp_code   corp_name stock_code modify_data\n",
              "45194  00126380        삼성전자     005930    20191209\n",
              "53846  00252074      삼성전자판매               20200217\n",
              "56775  00258999     삼성전자서비스               20200225\n",
              "58695  01345812  삼성전자서비스씨에스               20200219\n",
              "70495  00366997     삼성전자로지텍               20200324"
            ]
          },
          "metadata": {
            "tags": []
          },
          "execution_count": 10
        }
      ]
    },
    {
      "cell_type": "markdown",
      "metadata": {
        "id": "xC7HQ3ntnRiR",
        "colab_type": "text"
      },
      "source": [
        "#### 회사 Profile"
      ]
    },
    {
      "cell_type": "code",
      "metadata": {
        "id": "bBru1Fyc19U7",
        "colab_type": "code",
        "colab": {}
      },
      "source": [
        "co_profile = load_data(request='company', corp_code=corp_code)"
      ],
      "execution_count": 11,
      "outputs": []
    },
    {
      "cell_type": "markdown",
      "metadata": {
        "id": "6Nz1-_BjntwJ",
        "colab_type": "text"
      },
      "source": [
        "#### 재무정보 추출"
      ]
    },
    {
      "cell_type": "code",
      "metadata": {
        "id": "XvlVzZaiux5G",
        "colab_type": "code",
        "colab": {
          "base_uri": "https://localhost:8080/",
          "height": 197
        },
        "outputId": "e41c8054-40c3-45e0-e4c2-182942943aa4"
      },
      "source": [
        "input_data['rpt_code'] = ch_rpt_code(input_data['rpt_code'])\n",
        "\n",
        "temp = load_data(request='biz_rpt_sum', corp_code=corp_code, year=input_data['year'], rpt_code = input_data['rpt_code'] )   #JSON 형태 반환\n",
        "lstDf = ext_FS(temp, consol=True, kindof=input_data['kind_of_report'])\n",
        "\n",
        "for i, df in enumerate(lstDf):\n",
        "    print(\"co_code : {}, co_name : {}\".format(corp_code.iat[i,0], corp_code.iat[i,1]))\n",
        "    file_name = str(corp_code.iat[i,1]) + str(input_data['kind_of_report']) + str(input_data['rpt_code']) + '.xlsx'\n",
        "    \n",
        "    df.to_excel(file_name)"
      ],
      "execution_count": 12,
      "outputs": [
        {
          "output_type": "stream",
          "text": [
            "fnlttSinglAcnt.json?crtfc_key=58e750d240b32c943d6bdcf8d58f746880655281&corp_code=00126380&bsns_year=2019&reprt_code=11011\n",
            "fnlttSinglAcnt.json?crtfc_key=58e750d240b32c943d6bdcf8d58f746880655281&corp_code=00252074&bsns_year=2019&reprt_code=11011\n",
            "fnlttSinglAcnt.json?crtfc_key=58e750d240b32c943d6bdcf8d58f746880655281&corp_code=00258999&bsns_year=2019&reprt_code=11011\n",
            "fnlttSinglAcnt.json?crtfc_key=58e750d240b32c943d6bdcf8d58f746880655281&corp_code=01345812&bsns_year=2019&reprt_code=11011\n",
            "fnlttSinglAcnt.json?crtfc_key=58e750d240b32c943d6bdcf8d58f746880655281&corp_code=00366997&bsns_year=2019&reprt_code=11011\n",
            "co_code : 00126380, co_name : 삼성전자\n",
            "co_code : 00252074, co_name : 삼성전자판매\n",
            "co_code : 00258999, co_name : 삼성전자서비스\n",
            "co_code : 01345812, co_name : 삼성전자서비스씨에스\n",
            "co_code : 00366997, co_name : 삼성전자로지텍\n"
          ],
          "name": "stdout"
        }
      ]
    },
    {
      "cell_type": "code",
      "metadata": {
        "id": "JRlStrZAi8LV",
        "colab_type": "code",
        "colab": {}
      },
      "source": [
        ""
      ],
      "execution_count": null,
      "outputs": []
    },
    {
      "cell_type": "code",
      "metadata": {
        "id": "i-eOnSoRro_S",
        "colab_type": "code",
        "colab": {}
      },
      "source": [
        ""
      ],
      "execution_count": null,
      "outputs": []
    },
    {
      "cell_type": "code",
      "metadata": {
        "id": "iA3vqPG8zssU",
        "colab_type": "code",
        "colab": {}
      },
      "source": [
        ""
      ],
      "execution_count": null,
      "outputs": []
    },
    {
      "cell_type": "code",
      "metadata": {
        "id": "xQMqzy_mjTVG",
        "colab_type": "code",
        "colab": {}
      },
      "source": [
        "    "
      ],
      "execution_count": null,
      "outputs": []
    }
  ]
}